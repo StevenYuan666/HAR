{
 "cells": [
  {
   "cell_type": "markdown",
   "id": "d7564229-6d9f-4c52-a706-85344420df81",
   "metadata": {},
   "source": [
    "# import needed packages"
   ]
  },
  {
   "cell_type": "code",
   "execution_count": 1,
   "id": "90b234b3-5359-4a44-991e-a55ab3d01b7e",
   "metadata": {},
   "outputs": [],
   "source": [
    "import numpy as np\n",
    "import pandas as pd\n",
    "import matplotlib.pyplot as plt\n",
    "import sklearn\n",
    "from sklearn.preprocessing import StandardScaler\n",
    "import os\n",
    "import csv\n",
    "from sklearn.preprocessing import LabelEncoder, OneHotEncoder\n",
    "import scipy.stats as stats\n",
    "from sklearn.model_selection import train_test_split"
   ]
  },
  {
   "cell_type": "markdown",
   "id": "d0b9f172-0fca-4ded-ba5a-ed076330a041",
   "metadata": {},
   "source": [
    "# Data pre-processing"
   ]
  },
  {
   "cell_type": "code",
   "execution_count": 2,
   "id": "82e51178-deee-4285-9ed0-545740f1cfaf",
   "metadata": {},
   "outputs": [],
   "source": [
    "path_phone_accel = \"/Users/stevenyuan/Documents/McGill/Research/HAR/wisdm-dataset/raw/phone/accel/\"\n",
    "files_phone_accel = os.listdir(path_phone_accel)\n",
    "path_phone_gyro = \"/Users/stevenyuan/Documents/McGill/Research/HAR/wisdm-dataset/raw/phone/gyro/\"\n",
    "files_phone_gyro = os.listdir(path_phone_gyro)\n",
    "path_watch_accel = \"/Users/stevenyuan/Documents/McGill/Research/HAR/wisdm-dataset/raw/watch/accel/\"\n",
    "files_watch_accel = os.listdir(path_watch_accel)\n",
    "path_watch_gyro = \"/Users/stevenyuan/Documents/McGill/Research/HAR/wisdm-dataset/raw/watch/gyro/\"\n",
    "files_watch_gyro = os.listdir(path_watch_gyro)"
   ]
  },
  {
   "cell_type": "code",
   "execution_count": 89,
   "id": "b706a9ee-9d18-4dbf-bc92-04e55903812b",
   "metadata": {},
   "outputs": [],
   "source": [
    "files_phone_accel.sort()\n",
    "files_phone_gyro.sort()\n",
    "files_watch_accel.sort()\n",
    "files_watch_gyro.sort()\n",
    "files_phone_accel = files_phone_accel[1:]\n",
    "files_phone_gyro = files_phone_gyro[1:]\n",
    "files_watch_accel = files_watch_accel[1:]\n",
    "files_watch_gyro = files_watch_gyro[1:]"
   ]
  },
  {
   "cell_type": "code",
   "execution_count": 90,
   "id": "64aa57db-ec3a-4b62-beb0-feee9e0efe86",
   "metadata": {},
   "outputs": [
    {
     "name": "stdout",
     "output_type": "stream",
     "text": [
      "          id actCode        Timestamp       a_x        a_y         a_z\n",
      "0       1600       A  252207666810782 -0.364761   8.793503   1.0550842\n",
      "1       1600       A  252207717164786 -0.879730   9.768784   1.0169983\n",
      "2       1600       A  252207767518790  2.001495  11.109070    2.619156\n",
      "3       1600       A  252207817872794  0.450623  12.651642  0.18455505\n",
      "4       1600       A  252207868226798 -2.164352  13.928436  -4.4224854\n",
      "...      ...     ...              ...       ...        ...         ...\n",
      "160774  1650       S  357734078421000 -8.234077  -4.275110  -1.4394068\n",
      "160775  1650       S  357734098619000 -8.080796  -4.418811  -1.4154567\n",
      "160776  1650       S  357734118715000 -7.994575  -4.457131  -1.4418018\n",
      "160777  1650       S  357734138868000 -8.040081  -4.366121  -1.4968873\n",
      "160778  1650       S  357734158964000 -8.164622  -4.179309  -1.5304176\n",
      "\n",
      "[4804403 rows x 6 columns]\n"
     ]
    }
   ],
   "source": [
    "# phone accelerator\n",
    "df_phone_accel = pd.DataFrame()\n",
    "for file in files_phone_accel:\n",
    "    temp_df = pd.read_csv(path_phone_accel + file, sep=\",\", header=None)\n",
    "    temp_df.columns = [\"id\", \"actCode\", \"Timestamp\", \"a_x\", \"a_y\", \"a_z\"]\n",
    "    temp_df['a_z'] = temp_df['a_z'].str.replace(';', '')\n",
    "    df_phone_accel = pd.concat([df_phone_accel, temp_df], sort=False)\n",
    "print(df_phone_accel)"
   ]
  },
  {
   "cell_type": "code",
   "execution_count": 91,
   "id": "dd883ceb-0eb5-47e1-ad45-6c3404673247",
   "metadata": {},
   "outputs": [
    {
     "name": "stdout",
     "output_type": "stream",
     "text": [
      "         id actCode        Timestamp       g_x       g_y          g_z\n",
      "0      1600       A  252207968934806 -0.875137  0.015472   0.16223145\n",
      "1      1600       A  252208019288809 -0.720169  0.388489  -0.28401184\n",
      "2      1600       A  252208069642813 -0.571640  1.227402   -0.2416687\n",
      "3      1600       A  252208119996817 -0.380493  1.202835  -0.21313477\n",
      "4      1600       A  252208170350821 -0.225784  0.558136    0.1244812\n",
      "...     ...     ...              ...       ...       ...          ...\n",
      "80342  1650       S  357733977635000  0.438889  0.171508   0.16937704\n",
      "80343  1650       S  357734017925000  0.444215  0.158724   0.19707392\n",
      "80344  1650       S  357734058325000  0.519849  0.037284   0.19600865\n",
      "80345  1650       S  357734098619000  0.545415 -0.086286   0.17896444\n",
      "80346  1650       S  357734138868000  0.471912 -0.201335   0.23222765\n",
      "\n",
      "[3608584 rows x 6 columns]\n"
     ]
    }
   ],
   "source": [
    "# phone gyroscope\n",
    "df_phone_gyro = pd.DataFrame()\n",
    "for file in files_phone_gyro:\n",
    "    temp_df = pd.read_csv(path_phone_gyro + file, sep=\",\")\n",
    "    temp_df.columns = [\"id\", \"actCode\", \"Timestamp\", \"g_x\", \"g_y\", \"g_z\"]\n",
    "    temp_df['g_z'] = temp_df['g_z'].str.replace(';', '')\n",
    "    df_phone_gyro = pd.concat([df_phone_gyro, temp_df], sort=False)\n",
    "print(df_phone_gyro)"
   ]
  },
  {
   "cell_type": "code",
   "execution_count": 92,
   "id": "78b50eaf-72c0-4b6a-b0aa-47c012c4af8f",
   "metadata": {},
   "outputs": [
    {
     "name": "stdout",
     "output_type": "stream",
     "text": [
      "         id actCode         Timestamp       a_x        a_y        a_z\n",
      "0      1600       A    90426757696641  4.972757  -0.158317  6.6967316\n",
      "1      1600       A    90426807196641  3.253720  -0.191835   6.107758\n",
      "2      1600       A    90426856696641  2.801216  -0.155922   5.997625\n",
      "3      1600       A    90426906196641  3.770868  -1.051354   7.731027\n",
      "4      1600       A    90426955696641  4.661511   0.169689   9.684695\n",
      "...     ...     ...               ...       ...        ...        ...\n",
      "66586  1650       S  2426184421424592  1.486500 -13.302334   5.355231\n",
      "66587  1650       S  2426184471411932  4.017171 -13.146711  5.1182046\n",
      "66588  1650       S  2426184521399272  4.412214 -15.318253  3.3704374\n",
      "66589  1650       S  2426184571385262  4.426579 -13.012636  2.5755625\n",
      "66590  1650       S  2426184621371252  3.765780 -11.798776   2.166154\n",
      "\n",
      "[3776995 rows x 6 columns]\n"
     ]
    }
   ],
   "source": [
    "# smartwatch accelerator\n",
    "df_watch_accel = pd.DataFrame()\n",
    "for file in files_watch_accel:\n",
    "    temp_df = pd.read_csv(path_watch_accel + file, sep=\",\")\n",
    "    temp_df.columns = [\"id\", \"actCode\", \"Timestamp\", \"a_x\", \"a_y\", \"a_z\"]\n",
    "    temp_df['a_z'] = temp_df['a_z'].str.replace(';', '')\n",
    "    df_watch_accel = pd.concat([df_watch_accel, temp_df], sort=False)\n",
    "print(df_watch_accel)"
   ]
  },
  {
   "cell_type": "code",
   "execution_count": 93,
   "id": "ab58ecab-66d9-4ea1-824f-f8a2b0bde2ff",
   "metadata": {},
   "outputs": [
    {
     "name": "stdout",
     "output_type": "stream",
     "text": [
      "         id actCode         Timestamp       g_x       g_y            g_z\n",
      "0      1600       A    90426807196641  0.387382 -0.618541   -0.048971802\n",
      "1      1600       A    90426856696641  0.070999 -0.209480     -0.1959783\n",
      "2      1600       A    90426906196641  0.037975  0.254976     -0.1565635\n",
      "3      1600       A    90426955696641  0.073129  0.719431  -0.0010349044\n",
      "4      1600       A    90427005196641 -0.101574  1.082686    -0.13419296\n",
      "...     ...     ...               ...       ...       ...            ...\n",
      "66550  1650       S  2426184371437252 -2.856065  2.057101     0.85393304\n",
      "66551  1650       S  2426184421424592 -2.911458  1.817417      1.2811041\n",
      "66552  1650       S  2426184471411932 -3.015854  1.550036      2.0576818\n",
      "66553  1650       S  2426184521399272 -3.218254  1.595842      3.0185504\n",
      "66554  1650       S  2426184571385262 -2.455525  0.866136      3.3541086\n",
      "\n",
      "[3440291 rows x 6 columns]\n"
     ]
    }
   ],
   "source": [
    "# smartwatch gyroscope\n",
    "df_watch_gyro = pd.DataFrame()\n",
    "for file in files_watch_gyro:\n",
    "    temp_df = pd.read_csv(path_watch_gyro + file, sep=\",\")\n",
    "    temp_df.columns = [\"id\", \"actCode\", \"Timestamp\", \"g_x\", \"g_y\", \"g_z\"]\n",
    "    temp_df['g_z'] = temp_df['g_z'].str.replace(';', '')\n",
    "    df_watch_gyro = pd.concat([df_watch_gyro, temp_df], sort=False)\n",
    "print(df_watch_gyro)"
   ]
  },
  {
   "cell_type": "code",
   "execution_count": 94,
   "id": "38c25e87-5277-40aa-953a-e05b3f14fea2",
   "metadata": {},
   "outputs": [],
   "source": [
    "# do the one-hot encoding for the labels\n",
    "onehot_encoder = OneHotEncoder()\n",
    "label_encoder = LabelEncoder()\n",
    "df_phone_accel['label'] = label_encoder.fit_transform(df_phone_accel['actCode'])\n",
    "df_phone_gyro['label'] = label_encoder.fit_transform(df_phone_gyro['actCode'])\n",
    "df_watch_accel['label'] = label_encoder.fit_transform(df_watch_accel['actCode'])\n",
    "df_watch_gyro['label'] = label_encoder.fit_transform(df_watch_gyro['actCode'])"
   ]
  },
  {
   "cell_type": "code",
   "execution_count": 95,
   "id": "7b87edad-c652-44be-bf06-441907c5c6c8",
   "metadata": {},
   "outputs": [],
   "source": [
    "# standarize the value of each axis\n",
    "scaler = StandardScaler()\n",
    "df_phone_accel[['a_x', 'a_y', 'a_z']] = scaler.fit_transform(df_phone_accel[['a_x', 'a_y', 'a_z']])\n",
    "df_phone_gyro[['g_x', 'g_y', 'g_z']] = scaler.fit_transform(df_phone_gyro[['g_x', 'g_y', 'g_z']])\n",
    "df_watch_accel[['a_x', 'a_y', 'a_z']] = scaler.fit_transform(df_watch_accel[['a_x', 'a_y', 'a_z']])\n",
    "df_watch_gyro[['g_x', 'g_y', 'g_z']] = scaler.fit_transform(df_watch_gyro[['g_x', 'g_y', 'g_z']])"
   ]
  },
  {
   "cell_type": "code",
   "execution_count": 96,
   "id": "815774a9-1656-4232-8c98-25534a88bed8",
   "metadata": {},
   "outputs": [
    {
     "name": "stdout",
     "output_type": "stream",
     "text": [
      "          id actCode        Timestamp       a_x       a_y       a_z  label\n",
      "0       1600       A  252207666810782 -0.086555  1.522463  0.137514      0\n",
      "1       1600       A  252207717164786 -0.174591  1.664156  0.130082      0\n",
      "2       1600       A  252207767518790  0.317969  1.858878  0.442712      0\n",
      "3       1600       A  252207817872794  0.052839  2.082989 -0.032353      0\n",
      "4       1600       A  252207868226798 -0.394204  2.268487 -0.931326      0\n",
      "...      ...     ...              ...       ...       ...       ...    ...\n",
      "160774  1650       S  357734078421000 -1.431855 -0.376197 -0.349237     17\n",
      "160775  1650       S  357734098619000 -1.405650 -0.397075 -0.344563     17\n",
      "160776  1650       S  357734118715000 -1.390911 -0.402642 -0.349704     17\n",
      "160777  1650       S  357734138868000 -1.398690 -0.389420 -0.360453     17\n",
      "160778  1650       S  357734158964000 -1.419981 -0.362279 -0.366996     17\n",
      "\n",
      "[4804403 rows x 7 columns]\n"
     ]
    }
   ],
   "source": [
    "print(df_phone_accel)"
   ]
  },
  {
   "cell_type": "code",
   "execution_count": 97,
   "id": "852ff241-0c6d-4899-99d3-c764909bc801",
   "metadata": {},
   "outputs": [
    {
     "name": "stdout",
     "output_type": "stream",
     "text": [
      "         id actCode        Timestamp       g_x       g_y       g_z  label\n",
      "0      1600       A  252207968934806 -1.035478  0.021521  0.250015      0\n",
      "1      1600       A  252208019288809 -0.851231  0.412987 -0.431194      0\n",
      "2      1600       A  252208069642813 -0.674640  1.293393 -0.366555      0\n",
      "3      1600       A  252208119996817 -0.447379  1.267611 -0.322997      0\n",
      "4      1600       A  252208170350821 -0.263441  0.591025  0.192388      0\n",
      "...     ...     ...              ...       ...       ...       ...    ...\n",
      "80342  1650       S  357733977635000  0.526811  0.185274  0.260923     17\n",
      "80343  1650       S  357734017925000  0.533144  0.171858  0.303203     17\n",
      "80344  1650       S  357734058325000  0.623067  0.044412  0.301577     17\n",
      "80345  1650       S  357734098619000  0.653464 -0.085271  0.275559     17\n",
      "80346  1650       S  357734138868000  0.566073 -0.206010  0.356867     17\n",
      "\n",
      "[3608584 rows x 7 columns]\n"
     ]
    }
   ],
   "source": [
    "print(df_phone_gyro)"
   ]
  },
  {
   "cell_type": "code",
   "execution_count": 98,
   "id": "f2e7f297-e3ea-4fd2-bea6-5479ce17cf97",
   "metadata": {},
   "outputs": [
    {
     "name": "stdout",
     "output_type": "stream",
     "text": [
      "         id actCode         Timestamp       a_x       a_y       a_z  label\n",
      "0      1600       A    90426757696641  0.658894  0.810991  0.927623      0\n",
      "1      1600       A    90426807196641  0.412107  0.804699  0.814942      0\n",
      "2      1600       A    90426856696641  0.347145  0.811440  0.793871      0\n",
      "3      1600       A    90426906196641  0.486349  0.643363  1.125502      0\n",
      "4      1600       A    90426955696641  0.614211  0.872559  1.499273      0\n",
      "...     ...     ...               ...       ...       ...       ...    ...\n",
      "66586  1650       S  2426184421424592  0.158403 -1.656213  0.670970     17\n",
      "66587  1650       S  2426184471411932  0.521709 -1.627002  0.625623     17\n",
      "66588  1650       S  2426184521399272  0.578422 -2.034612  0.291244     17\n",
      "66589  1650       S  2426184571385262  0.580484 -1.601835  0.139170     17\n",
      "66590  1650       S  2426184621371252  0.485619 -1.373987  0.060843     17\n",
      "\n",
      "[3776995 rows x 7 columns]\n"
     ]
    }
   ],
   "source": [
    "print(df_watch_accel)"
   ]
  },
  {
   "cell_type": "code",
   "execution_count": 99,
   "id": "63c0f9fa-0f42-4dd4-88ca-de530f4f6417",
   "metadata": {},
   "outputs": [
    {
     "name": "stdout",
     "output_type": "stream",
     "text": [
      "         id actCode         Timestamp       g_x       g_y       g_z  label\n",
      "0      1600       A    90426807196641  0.264375 -0.396801 -0.044583      0\n",
      "1      1600       A    90426856696641  0.062580 -0.121778 -0.148378      0\n",
      "2      1600       A    90426906196641  0.041517  0.190488 -0.120549      0\n",
      "3      1600       A    90426955696641  0.063939  0.502755 -0.010737      0\n",
      "4      1600       A    90427005196641 -0.047490  0.746981 -0.104754      0\n",
      "...     ...     ...               ...       ...       ...       ...    ...\n",
      "66550  1650       S  2426184371437252 -1.804354  1.402108  0.592922     17\n",
      "66551  1650       S  2426184421424592 -1.839685  1.240961  0.894531     17\n",
      "66552  1650       S  2426184471411932 -1.906271  1.061193  1.442842     17\n",
      "66553  1650       S  2426184521399272 -2.035365  1.091990  2.121273     17\n",
      "66554  1650       S  2426184571385262 -1.548883  0.601388  2.358198     17\n",
      "\n",
      "[3440291 rows x 7 columns]\n"
     ]
    }
   ],
   "source": [
    "print(df_watch_gyro)"
   ]
  },
  {
   "cell_type": "code",
   "execution_count": 100,
   "id": "214e3080-32d8-4c8a-9b9b-9855f19b7eab",
   "metadata": {},
   "outputs": [],
   "source": [
    "df_phone_accel_x, df_phone_accel_y = df_phone_accel[['a_x', 'a_y', 'a_z']], df_phone_accel['label']"
   ]
  },
  {
   "cell_type": "code",
   "execution_count": 101,
   "id": "fa456b52-a677-4748-865a-db310e5f684e",
   "metadata": {},
   "outputs": [],
   "source": [
    "df_phone_gyro_x, df_phone_gyro_y = df_phone_gyro[['g_x', 'g_y', 'g_z']], df_phone_gyro['label']"
   ]
  },
  {
   "cell_type": "code",
   "execution_count": 102,
   "id": "b2049481-b462-450e-b024-13df57c1a633",
   "metadata": {},
   "outputs": [],
   "source": [
    "df_watch_accel_x, df_watch_accel_y = df_watch_accel[['a_x', 'a_y', 'a_z']], df_watch_accel['label']"
   ]
  },
  {
   "cell_type": "code",
   "execution_count": 103,
   "id": "4161670f-dfd5-4341-963f-13db2901aa4d",
   "metadata": {},
   "outputs": [],
   "source": [
    "df_watch_gyro_x, df_watch_gyro_y = df_watch_gyro[['g_x', 'g_y', 'g_z']], df_watch_gyro['label']"
   ]
  },
  {
   "cell_type": "code",
   "execution_count": 104,
   "id": "f038cc53-c3d3-4381-8320-5dedba26c789",
   "metadata": {},
   "outputs": [],
   "source": [
    "df_phone_accel_x_train, df_phone_accel_x_test, df_phone_accel_y_train, df_phone_accel_y_test = train_test_split(df_phone_accel_x, df_phone_accel_y, test_size = 0.2)"
   ]
  },
  {
   "cell_type": "code",
   "execution_count": 105,
   "id": "d4260cfe-3ced-436d-9476-971f5ecd2a22",
   "metadata": {},
   "outputs": [
    {
     "name": "stdout",
     "output_type": "stream",
     "text": [
      "             a_x       a_y       a_z\n",
      "108525  0.102730 -1.178937 -0.093601\n",
      "42493  -1.652692 -0.035523  0.245158\n",
      "79037  -0.973281 -0.304170 -1.367573\n",
      "26770   0.599791 -1.180676 -0.452519\n",
      "142830 -0.181422  1.704592  0.027907\n",
      "...          ...       ...       ...\n",
      "140325  0.211231 -1.090903  0.128853\n",
      "65334  -1.447823 -0.032067 -0.871724\n",
      "50653   1.581575  0.419638  0.207624\n",
      "44347   0.569044 -0.077687 -1.890107\n",
      "38387   1.107827  0.260387  1.327573\n",
      "\n",
      "[3843522 rows x 3 columns]\n",
      "            a_x       a_y       a_z\n",
      "77014 -0.946667 -0.364715 -1.336728\n",
      "25921  0.013881 -1.409285 -0.368398\n",
      "53975 -1.462501 -0.482827  0.115811\n",
      "21632  1.374862 -1.096819 -0.115099\n",
      "22246 -1.079650 -0.814167  0.274221\n",
      "...         ...       ...       ...\n",
      "3903  -0.403694  2.075042 -1.264122\n",
      "5596  -0.204773 -1.527996 -0.281771\n",
      "16374  1.577423 -0.159064  0.180613\n",
      "94882  0.005692  0.322502  1.872034\n",
      "29103  0.047155 -1.110486  0.344420\n",
      "\n",
      "[960881 rows x 3 columns]\n",
      "108525    13\n",
      "42493     11\n",
      "79037      8\n",
      "26770      2\n",
      "142830    17\n",
      "          ..\n",
      "140325    15\n",
      "65334      7\n",
      "50653     14\n",
      "44347      7\n",
      "38387      8\n",
      "Name: label, Length: 3843522, dtype: int64\n",
      "77014     8\n",
      "25921     2\n",
      "53975    15\n",
      "21632     2\n",
      "22246     6\n",
      "         ..\n",
      "3903      1\n",
      "5596      0\n",
      "16374     4\n",
      "94882    10\n",
      "29103     8\n",
      "Name: label, Length: 960881, dtype: int64\n"
     ]
    }
   ],
   "source": [
    "print(df_phone_accel_x_train)\n",
    "print(df_phone_accel_x_test)\n",
    "print(df_phone_accel_y_train)\n",
    "print(df_phone_accel_y_test)"
   ]
  },
  {
   "cell_type": "code",
   "execution_count": 106,
   "id": "e07df5d0-4b6c-44ed-b0e1-690ad6cc68e1",
   "metadata": {},
   "outputs": [],
   "source": [
    "df_phone_gyro_x_train, df_phone_gyro_x_test, df_phone_gyro_y_train, df_phone_gyro_y_test = train_test_split(df_phone_gyro_x, df_phone_gyro_y, test_size = 0.2)"
   ]
  },
  {
   "cell_type": "code",
   "execution_count": 107,
   "id": "8b55ec67-4744-48cd-9e0c-7bd656eccd97",
   "metadata": {},
   "outputs": [
    {
     "name": "stdout",
     "output_type": "stream",
     "text": [
      "             g_x       g_y       g_z\n",
      "14712  -0.061288  0.015964 -0.063907\n",
      "30313  -0.006373  0.017918  0.003387\n",
      "31866   0.003641  0.005411  0.001756\n",
      "118719  0.015995  0.011368 -0.006117\n",
      "48412  -0.003864 -0.002543 -0.000890\n",
      "...          ...       ...       ...\n",
      "33153  -0.000065  0.045529  0.003988\n",
      "31989   0.042192 -0.036752  0.025143\n",
      "400     2.139515  0.043940  2.763580\n",
      "30804   0.013619  0.007621  0.000359\n",
      "3649    2.072735 -0.789179 -1.128544\n",
      "\n",
      "[2886867 rows x 3 columns]\n",
      "            g_x       g_y       g_z\n",
      "78862 -0.241972  0.392095  0.288568\n",
      "64357 -0.623196 -0.485498 -0.225302\n",
      "35706 -0.114824  0.069994 -0.294812\n",
      "14439  0.015143  0.010808  0.010538\n",
      "58797  0.002679  0.010183 -0.001854\n",
      "...         ...       ...       ...\n",
      "35021  0.004512  0.002977  0.009420\n",
      "24361 -0.099912 -0.030203 -0.184076\n",
      "55421  0.261484  0.061539  0.010124\n",
      "24909  0.036665  0.009755  0.047895\n",
      "12419  0.649664 -0.616299 -0.818854\n",
      "\n",
      "[721717 rows x 3 columns]\n",
      "14712      6\n",
      "30313      8\n",
      "31866      8\n",
      "118719    15\n",
      "48412     10\n",
      "          ..\n",
      "33153      7\n",
      "31989      9\n",
      "400        0\n",
      "30804      8\n",
      "3649       1\n",
      "Name: label, Length: 2886867, dtype: int64\n",
      "78862    17\n",
      "64357    14\n",
      "35706     9\n",
      "14439     4\n",
      "58797    16\n",
      "         ..\n",
      "35021     9\n",
      "24361     6\n",
      "55421    15\n",
      "24909     7\n",
      "12419     2\n",
      "Name: label, Length: 721717, dtype: int64\n"
     ]
    }
   ],
   "source": [
    "print(df_phone_gyro_x_train)\n",
    "print(df_phone_gyro_x_test)\n",
    "print(df_phone_gyro_y_train)\n",
    "print(df_phone_gyro_y_test)"
   ]
  },
  {
   "cell_type": "code",
   "execution_count": 108,
   "id": "ba794496-55f0-485b-b742-08a7423f71db",
   "metadata": {},
   "outputs": [],
   "source": [
    "df_watch_accel_x_train, df_watch_accel_x_test, df_watch_accel_y_train, df_watch_accel_y_test = train_test_split(df_watch_accel_x, df_watch_accel_y, test_size = 0.2)"
   ]
  },
  {
   "cell_type": "code",
   "execution_count": 109,
   "id": "e6737914-d4c7-41d5-a979-67410ac4cd0e",
   "metadata": {},
   "outputs": [
    {
     "name": "stdout",
     "output_type": "stream",
     "text": [
      "             a_x       a_y       a_z\n",
      "2157    0.646456  0.568228  0.015153\n",
      "60659  -0.069049 -0.926605 -0.160396\n",
      "143784 -1.152853  0.931519 -1.395090\n",
      "48838  -0.148877 -1.215375  0.647380\n",
      "17756   1.170684  0.144524  0.197544\n",
      "...          ...       ...       ...\n",
      "16269   1.317943  0.671001 -0.016968\n",
      "132523  0.923888 -0.329942 -0.176253\n",
      "62132  -0.242410  1.353984  0.091132\n",
      "14285   0.324396  1.083218  1.465520\n",
      "7536    1.651990 -0.526494  0.055232\n",
      "\n",
      "[3021596 rows x 3 columns]\n",
      "             a_x       a_y       a_z\n",
      "2214    1.083767  0.563369 -0.787557\n",
      "16943   0.683641  1.190148 -1.968131\n",
      "61574  -0.988355  0.880789 -0.564886\n",
      "40646   1.325355  0.493149  0.032873\n",
      "17543   1.243830  0.308500 -0.270186\n",
      "...          ...       ...       ...\n",
      "16476   1.218782  0.224995 -0.814925\n",
      "135491 -0.782547 -0.232838  0.620115\n",
      "18083  -0.623868 -0.492620  0.630232\n",
      "2314    0.869182  1.613094 -0.372360\n",
      "100600 -0.401764 -0.489362 -1.541827\n",
      "\n",
      "[755399 rows x 3 columns]\n",
      "2157       0\n",
      "60659     15\n",
      "143784    16\n",
      "48838     12\n",
      "17756      4\n",
      "          ..\n",
      "16269      4\n",
      "132523    14\n",
      "62132     16\n",
      "14285      3\n",
      "7536       2\n",
      "Name: label, Length: 3021596, dtype: int64\n",
      "2214       0\n",
      "16943      4\n",
      "61574     16\n",
      "40646     11\n",
      "17543      4\n",
      "          ..\n",
      "16476      4\n",
      "135491    16\n",
      "18083      5\n",
      "2314       0\n",
      "100600     9\n",
      "Name: label, Length: 755399, dtype: int64\n"
     ]
    }
   ],
   "source": [
    "print(df_watch_accel_x_train)\n",
    "print(df_watch_accel_x_test)\n",
    "print(df_watch_accel_y_train)\n",
    "print(df_watch_accel_y_test)"
   ]
  },
  {
   "cell_type": "code",
   "execution_count": 110,
   "id": "b98da22f-703a-4b2a-8ae9-f30625ad26cd",
   "metadata": {},
   "outputs": [],
   "source": [
    "df_watch_gyro_x_train, df_watch_gyro_x_test, df_watch_gyro_y_train, df_watch_gyro_y_test = train_test_split(df_watch_gyro_x, df_watch_gyro_y, test_size = 0.2)"
   ]
  },
  {
   "cell_type": "code",
   "execution_count": 111,
   "id": "d0744e6c-161d-489c-982f-35a56373ff08",
   "metadata": {},
   "outputs": [
    {
     "name": "stdout",
     "output_type": "stream",
     "text": [
      "            g_x       g_y       g_z\n",
      "30299 -0.005126  0.051291 -0.019032\n",
      "2864   0.629990 -0.063599  0.802087\n",
      "27822 -0.112357  0.138933  0.079177\n",
      "81558  0.013171  0.014827 -0.021983\n",
      "47569 -0.614200 -0.397435 -0.878797\n",
      "...         ...       ...       ...\n",
      "46125 -1.825736  0.616210  0.642107\n",
      "16739  0.009822  0.019061 -0.000980\n",
      "14193  0.048214  0.023137 -0.013336\n",
      "23567 -0.038628 -0.023581  0.008020\n",
      "58792 -0.128165 -0.809979  0.062494\n",
      "\n",
      "[2752232 rows x 3 columns]\n",
      "            g_x       g_y       g_z\n",
      "31114 -0.336173  0.389263 -0.245924\n",
      "13643  0.021057  0.019991 -0.005472\n",
      "54653  1.219914  0.106438  0.233688\n",
      "23992 -0.210787  0.048415 -0.233545\n",
      "54071  0.354301  0.163019 -0.245426\n",
      "...         ...       ...       ...\n",
      "24127  0.395072 -0.080434  0.243601\n",
      "46404 -0.079263  0.087490 -0.004774\n",
      "60823  0.581577 -0.069575  0.128833\n",
      "8121  -3.784199 -2.534932 -3.038126\n",
      "1518   0.653901 -0.125894  1.466398\n",
      "\n",
      "[688059 rows x 3 columns]\n",
      "30299     6\n",
      "2864      0\n",
      "27822     7\n",
      "81558     4\n",
      "47569    13\n",
      "         ..\n",
      "46125    12\n",
      "16739     5\n",
      "14193     3\n",
      "23567     4\n",
      "58792    16\n",
      "Name: label, Length: 2752232, dtype: int64\n",
      "31114     8\n",
      "13643     3\n",
      "54653    14\n",
      "23992     6\n",
      "54071    14\n",
      "         ..\n",
      "24127     6\n",
      "46404    11\n",
      "60823    16\n",
      "8121      1\n",
      "1518      0\n",
      "Name: label, Length: 688059, dtype: int64\n"
     ]
    }
   ],
   "source": [
    "print(df_watch_gyro_x_train)\n",
    "print(df_watch_gyro_x_test)\n",
    "print(df_watch_gyro_y_train)\n",
    "print(df_watch_gyro_y_test)"
   ]
  },
  {
   "cell_type": "code",
   "execution_count": null,
   "id": "61908e5e-2362-49ea-8bb5-efff08141a6a",
   "metadata": {},
   "outputs": [],
   "source": []
  }
 ],
 "metadata": {
  "kernelspec": {
   "display_name": "Python 3",
   "language": "python",
   "name": "python3"
  },
  "language_info": {
   "codemirror_mode": {
    "name": "ipython",
    "version": 3
   },
   "file_extension": ".py",
   "mimetype": "text/x-python",
   "name": "python",
   "nbconvert_exporter": "python",
   "pygments_lexer": "ipython3",
   "version": "3.8.2"
  }
 },
 "nbformat": 4,
 "nbformat_minor": 5
}
